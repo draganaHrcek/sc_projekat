{
 "cells": [
  {
   "cell_type": "markdown",
   "metadata": {},
   "source": [
    "# Import"
   ]
  },
  {
   "cell_type": "code",
   "execution_count": null,
   "metadata": {},
   "outputs": [],
   "source": [
    "import cv2\n",
    "import numpy as np\n",
    "import matplotlib\n",
    "import matplotlib.pyplot as plt\n",
    "import os\n",
    "import sys\n",
    "\n",
    "from matplotlib.pyplot import figure"
   ]
  },
  {
   "cell_type": "markdown",
   "metadata": {},
   "source": [
    "# Funkcije"
   ]
  },
  {
   "cell_type": "code",
   "execution_count": null,
   "metadata": {},
   "outputs": [],
   "source": [
    "def prebroj_snimke():\n",
    "    snimci = os.listdir('snimci')\n",
    "    broj_snimaka = len(snimci)\n",
    "    return broj_snimaka\n",
    "\n",
    "def ucitaj_snimak(brojSnimka):\n",
    "    return cv2.VideoCapture('snimci/video'+str(brojSnimka)+'.mp4')"
   ]
  },
  {
   "cell_type": "markdown",
   "metadata": {},
   "source": [
    "# Analiza slike"
   ]
  },
  {
   "cell_type": "code",
   "execution_count": null,
   "metadata": {
    "scrolled": false
   },
   "outputs": [],
   "source": [
    "snimak = ucitaj_snimak(1)\n",
    "rval , slika = snimak.read()\n",
    "plt.imshow(slika)\n",
    "plt.show()\n",
    "\n",
    "invertovana_slika = 255-slika\n",
    "#plt.imshow(invertovana_slika)\n",
    "#plt.show()\n",
    "\n",
    "slika_siva = cv2.cvtColor(invertovana_slika, cv2.COLOR_RGB2GRAY)\n",
    "#plt.imshow(slika_siva)\n",
    "#plt.show()\n",
    "\n",
    "ret, binarna = cv2.threshold(slika_siva, 190, 255, cv2.THRESH_BINARY)\n",
    "#plt.imshow(binarna)\n",
    "#plt.show()\n",
    "\n",
    "kernel = np.ones((3, 3))\n",
    "binarna = cv2.dilate(binarna, kernel, iterations=2)\n",
    "binarna = cv2.erode(binarna, kernel, iterations=10)\n",
    "\n",
    "#plt.imshow(binarna)\n",
    "#plt.show()\n",
    "\n",
    "#pronalazimo sve konture na slici\n",
    "image, contours, hierarchy = cv2.findContours(binarna, cv2.RETR_LIST, cv2.CHAIN_APPROX_SIMPLE)\n",
    "\n",
    "#slika_konture = slika.copy()\n",
    "#cv2.drawContours(slika_konture, contours, -1, (0, 255, 0), 1)\n",
    "#plt.imshow(slika_konture)\n",
    "#plt.show()\n",
    "\n",
    "plato = max(contours, key=cv2.contourArea) #najveca kontura predstavlja plato\n",
    "\n",
    "(x,y,w,h) = cv2.boundingRect(plato) \n",
    "\n",
    "izdvojen_plato = slika.copy()\n",
    "cv2.rectangle(izdvojen_plato, (x,y+150), (x+w+50,y+h-190), (0,255,0), 2)\n",
    "plt.imshow(izdvojen_plato)\n",
    "plt.show()\n",
    "\n",
    "\n",
    "out = open(\"out.txt\", \"w\")\n",
    "out.write(\"SW-81-2016, Dragana Hrcek\\nfile,count\\n\")\n",
    "broj_snimaka = prebroj_snimke()\n",
    "\n",
    "for i in range(0,broj_snimaka):\n",
    "    snimak = ucitaj_snimak(i+1)\n",
    "    uspesno_ucitano, prethodna_slika = snimak.read()\n",
    "    ukupno = 0\n",
    "    preskoci = 0\n",
    "    while uspesno_ucitano:\n",
    "        uspesno_ucitano, slika = snimak.read()\n",
    "        if uspesno_ucitano and preskoci == 0:\n",
    "            siv_prethodni = cv2.cvtColor(prethodna_slika, cv2.COLOR_RGB2GRAY)\n",
    "            siv_trenutni  =  cv2.cvtColor(slika, cv2.COLOR_RGB2GRAY)\n",
    "            prethodna_slika = slika\n",
    "            diff = cv2.absdiff(siv_trenutni, siv_prethodni)\n",
    "            binarna = cv2.adaptiveThreshold(diff, 255, cv2.ADAPTIVE_THRESH_MEAN_C, cv2.THRESH_BINARY, 21, 4)\n",
    "\n",
    "            binarna = cv2.dilate(binarna, kernel, iterations=1) #povecava BELO\n",
    "            binarna = cv2.erode(binarna, kernel, iterations=3) #povecava CRNO\n",
    "            \n",
    "            #plt.imshow(slika)\n",
    "            #plt.show()\n",
    "            #plt.imshow(binarna)\n",
    "            #plt.show()\n",
    "            \n",
    "            img, contours, hierarchy = cv2.findContours(binarna, cv2.RETR_LIST, cv2.CHAIN_APPROX_SIMPLE)\n",
    "\n",
    "            ljudi = [] \n",
    "            for contour in contours:\n",
    "                center, size, angle = cv2.minAreaRect(contour)\n",
    "                width, height = size\n",
    "                center = list(center)\n",
    "                if center[0] > (x) and center[0] < (x+w+50)  and center[1] > (y+150) and center[1] < (y+h-190):\n",
    "                    if width > 8 and height > 11 and width<70 and height <70: \n",
    "                        ljudi.append(contour)          \n",
    "            ukupno = ukupno + len(ljudi)      \n",
    "        preskoci = (preskoci+1)%6\n",
    "    out.write(\"video\"+str(i+1)+\".mp4,\"+str(ukupno)+\"\\n\")\n",
    "    print(\"video\"+str(i+1)+\".mp4,\"+str(ukupno))\n",
    "print (\"Gotovo\")\n",
    "\n",
    "        "
   ]
  },
  {
   "cell_type": "markdown",
   "metadata": {},
   "source": [
    "# TEST"
   ]
  },
  {
   "cell_type": "code",
   "execution_count": null,
   "metadata": {},
   "outputs": [],
   "source": [
    "res = []\n",
    "n = 0\n",
    "with open('res.txt') as file:\t\n",
    "    data = file.read()\n",
    "    lines = data.split('\\n')\n",
    "    for id, line in enumerate(lines):\n",
    "        if(id>0):\n",
    "            cols = line.split(',')\n",
    "            if(cols[0] == ''):\n",
    "                continue\n",
    "            print (cols)\n",
    "            cols[1] = cols[1].replace('\\r', '')\n",
    "            res.append(float(cols[1]))\n",
    "            n += 1\n",
    "\n",
    "correct = 0\n",
    "student = []\n",
    "student_results = []\n",
    "with open(\"out.txt\") as file:\n",
    "    data = file.read()\n",
    "    lines = data.split('\\n')\n",
    "    for id, line in enumerate(lines):\n",
    "        cols = line.split(',')\n",
    "        if(cols[0] == ''):\n",
    "            continue\n",
    "        if(id==0):\n",
    "            student = cols  \n",
    "        elif(id>1):\n",
    "            cols[1] = cols[1].replace('\\r', '')\n",
    "            student_results.append(float(cols[1]))\n",
    "\n",
    "diff = 0\n",
    "for index, res_col in enumerate(res):\n",
    "    diff += abs(res_col - student_results[index])\n",
    "percentage = 100 - diff/sum(res)*100\n",
    "\n",
    "print (student)\n",
    "print ('Procenat tacnosti:\\t'+str(percentage))\n",
    "print ('Ukupno:\\t'+str(n))"
   ]
  },
  {
   "cell_type": "markdown",
   "metadata": {},
   "source": [
    "# Proba"
   ]
  },
  {
   "cell_type": "code",
   "execution_count": null,
   "metadata": {},
   "outputs": [],
   "source": [
    "snimak1 = ucitaj_snimak(1)\n",
    "snimak2 = ucitaj_snimak(2)\n",
    "\n",
    "figure(num=None, figsize=(10, 10), dpi=100, facecolor='w', edgecolor='k')\n",
    "rval , slika = snimak2.read()\n",
    "plt.imshow(slika)\n",
    "plt.show()\n",
    "\n",
    "rval , slika1 = snimak1.read()\n",
    "\n",
    "s1 = cv2.cvtColor(slika, cv2.COLOR_RGB2GRAY)\n",
    "s2 = cv2.cvtColor(slika1, cv2.COLOR_RGB2GRAY)\n",
    "\n",
    "diff = cv2.absdiff(s2, s1)\n",
    "binarna = cv2.adaptiveThreshold(diff, 255, cv2.ADAPTIVE_THRESH_MEAN_C, cv2.THRESH_BINARY, 21, 5)\n",
    "\n",
    "binarna = cv2.dilate(binarna, kernel, iterations=1) #povecava BELO\n",
    "binarna = cv2.erode(binarna, kernel, iterations=2) #povecava CRNO\n",
    "\n",
    "figure(num=None, figsize=(10, 10), dpi=100, facecolor='w', edgecolor='k')\n",
    "plt.imshow(binarna)\n",
    "plt.show()\n",
    "\n",
    "img, contours, hierarchy = cv2.findContours(binarna, cv2.RETR_LIST, cv2.CHAIN_APPROX_SIMPLE)\n",
    "slika_konture = slika.copy()\n",
    "cv2.drawContours(slika_konture, contours, -1, (0, 255, 0), 1)\n",
    "figure(num=None, figsize=(6, 6), dpi=100, facecolor='w', edgecolor='k')\n",
    "\n",
    "plt.imshow(slika_konture)\n",
    "plt.show()"
   ]
  }
 ],
 "metadata": {
  "kernelspec": {
   "display_name": "Python 3",
   "language": "python",
   "name": "python3"
  },
  "language_info": {
   "codemirror_mode": {
    "name": "ipython",
    "version": 3
   },
   "file_extension": ".py",
   "mimetype": "text/x-python",
   "name": "python",
   "nbconvert_exporter": "python",
   "pygments_lexer": "ipython3",
   "version": "3.6.8"
  }
 },
 "nbformat": 4,
 "nbformat_minor": 2
}
